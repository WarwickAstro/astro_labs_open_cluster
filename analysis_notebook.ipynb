{
 "cells": [
  {
   "cell_type": "markdown",
   "metadata": {},
   "source": [
    "# Open Clusters Analysis Notebook\n",
    "\n",
    "Import the pipeline modules"
   ]
  },
  {
   "cell_type": "code",
   "execution_count": 1,
   "metadata": {},
   "outputs": [
    {
     "name": "stderr",
     "output_type": "stream",
     "text": [
      "WARNING: AstropyDeprecationWarning: block_reduce was moved to the astropy.nddata.blocks module.  Please update your import statement. [astropy.nddata.utils]\n",
      "WARNING: AstropyDeprecationWarning: block_replicate was moved to the astropy.nddata.blocks module.  Please update your import statement. [astropy.nddata.utils]\n"
     ]
    }
   ],
   "source": [
    "from openclusters.reduce import reduce                                                      \n",
    "from openclusters.mkregions import mkregions                                                \n",
    "from openclusters.photometry import do_phot                                                    "
   ]
  },
  {
   "cell_type": "markdown",
   "metadata": {},
   "source": [
    "### Set up the pipeline"
   ]
  },
  {
   "cell_type": "code",
   "execution_count": 2,
   "metadata": {},
   "outputs": [],
   "source": [
    "# data directory                                                                            \n",
    "data_dir = \"/Users/jmcc/Dropbox/data/nites/student_oc_archive/test/NGC2099\"                                                                               \n",
    "# reference image name, used for making regions                                             \n",
    "reference_image = \"NGC2099-S001-R001-C001_dupe-11.fts\"                                                                        \n",
    "# reference filter name, used for making regions                                            \n",
    "reference_filter = \"R\"                                                                      \n",
    "# path to open cluster catalog file                                                         \n",
    "catalog_path = \"/Users/jmcc/Dropbox/PythonScripts/open_clusters/open_cluster_membership_apjac1d51t2_mrt.csv\"                                                                           \n",
    "# name of cluster being analysed                                                            \n",
    "cluster_name = \"NGC2099\"                                                                           \n",
    "# colour of regions in ds9                                                                  \n",
    "region_colour = \"green\"                                                                     \n",
    "# list of filters to analyse                                                                \n",
    "filters = [\"B\", \"V\", \"R\", \"I\"]                                                              \n",
    "# list of photometry aperture radii, one per filter                                         \n",
    "apertures = [4, 4, 4, 4]                                                                    \n",
    "# cluster membership probability lower limit                                                \n",
    "pl = 0.5                                                                                    \n",
    "# cluster membership probability upper limit                                                \n",
    "pu = 1.0                                                                                    \n",
    "# cluster members faint magnitude limit                                                     \n",
    "mf = 15.0                                                                                   \n",
    "# cluster members bright magnitude limit                                                    \n",
    "mb = 10.0                                                                                                                                         "
   ]
  },
  {
   "cell_type": "markdown",
   "metadata": {},
   "source": [
    "### Sanity check the inputs"
   ]
  },
  {
   "cell_type": "code",
   "execution_count": 3,
   "metadata": {},
   "outputs": [],
   "source": [
    "# check there is an aperture for each filter\n",
    "assert len(filters) == len(apertures), \"Uneven number of filters and apertures!\"        \n",
    "# check the probability limits make sense\n",
    "assert pl < pu, \"cluster membership probability lower limit must be less than upper limit!\" \n",
    "# check the magnitude limits make sense\n",
    "assert mb < mf, \"cluster magnitude bright limit must be less than the faint limit!\"         "
   ]
  },
  {
   "cell_type": "markdown",
   "metadata": {},
   "source": [
    "### Reduce the data"
   ]
  },
  {
   "cell_type": "code",
   "execution_count": null,
   "metadata": {},
   "outputs": [],
   "source": [
    "reduce(data_dir, filters)                                                                   "
   ]
  },
  {
   "cell_type": "markdown",
   "metadata": {},
   "source": [
    "### Make the region files"
   ]
  },
  {
   "cell_type": "code",
   "execution_count": 4,
   "metadata": {},
   "outputs": [
    {
     "name": "stderr",
     "output_type": "stream",
     "text": [
      "WARNING: FITSFixedWarning: RADECSYS= 'FK5 ' / Equatorial coordinate system \n",
      "the RADECSYS keyword is deprecated, use RADESYSa. [astropy.wcs.wcs]\n",
      "WARNING: FITSFixedWarning: 'datfix' made the change 'Set MJD-OBS to 57671.199757 from DATE-OBS'. [astropy.wcs.wcs]\n"
     ]
    }
   ],
   "source": [
    "mkregions(data_dir, reference_image, reference_filter,                                      \n",
    "          catalog_path, cluster_name, pl, pu, mf, mb,                                       \n",
    "          region_colour)                                                                    "
   ]
  },
  {
   "cell_type": "markdown",
   "metadata": {},
   "source": [
    "### Stop and manually duplicate the reference region file for the other filters\n",
    "\n",
    "### Do the photometry"
   ]
  },
  {
   "cell_type": "code",
   "execution_count": 6,
   "metadata": {},
   "outputs": [
    {
     "name": "stderr",
     "output_type": "stream",
     "text": [
      "WARNING: FITSFixedWarning: RADECSYS= 'FK5 ' / Equatorial coordinate system \n",
      "the RADECSYS keyword is deprecated, use RADESYSa. [astropy.wcs.wcs]\n",
      "WARNING:astropy:FITSFixedWarning: RADECSYS= 'FK5 ' / Equatorial coordinate system \n",
      "the RADECSYS keyword is deprecated, use RADESYSa.\n",
      "WARNING: FITSFixedWarning: 'datfix' made the change 'Set MJD-OBS to 57671.192685 from DATE-OBS'. [astropy.wcs.wcs]\n",
      "WARNING:astropy:FITSFixedWarning: 'datfix' made the change 'Set MJD-OBS to 57671.192685 from DATE-OBS'.\n",
      "WARNING: FITSFixedWarning: RADECSYS= 'FK5 ' / Equatorial coordinate system \n",
      "the RADECSYS keyword is deprecated, use RADESYSa. [astropy.wcs.wcs]\n",
      "WARNING:astropy:FITSFixedWarning: RADECSYS= 'FK5 ' / Equatorial coordinate system \n",
      "the RADECSYS keyword is deprecated, use RADESYSa.\n",
      "WARNING: FITSFixedWarning: 'datfix' made the change 'Set MJD-OBS to 57671.196447 from DATE-OBS'. [astropy.wcs.wcs]\n",
      "WARNING:astropy:FITSFixedWarning: 'datfix' made the change 'Set MJD-OBS to 57671.196447 from DATE-OBS'.\n",
      "WARNING: FITSFixedWarning: RADECSYS= 'FK5 ' / Equatorial coordinate system \n",
      "the RADECSYS keyword is deprecated, use RADESYSa. [astropy.wcs.wcs]\n",
      "WARNING:astropy:FITSFixedWarning: RADECSYS= 'FK5 ' / Equatorial coordinate system \n",
      "the RADECSYS keyword is deprecated, use RADESYSa.\n",
      "WARNING: FITSFixedWarning: 'datfix' made the change 'Set MJD-OBS to 57671.199757 from DATE-OBS'. [astropy.wcs.wcs]\n",
      "WARNING:astropy:FITSFixedWarning: 'datfix' made the change 'Set MJD-OBS to 57671.199757 from DATE-OBS'.\n",
      "WARNING: FITSFixedWarning: RADECSYS= 'FK5 ' / Equatorial coordinate system \n",
      "the RADECSYS keyword is deprecated, use RADESYSa. [astropy.wcs.wcs]\n",
      "WARNING:astropy:FITSFixedWarning: RADECSYS= 'FK5 ' / Equatorial coordinate system \n",
      "the RADECSYS keyword is deprecated, use RADESYSa.\n",
      "WARNING: FITSFixedWarning: 'datfix' made the change 'Set MJD-OBS to 57671.204537 from DATE-OBS'. [astropy.wcs.wcs]\n",
      "WARNING:astropy:FITSFixedWarning: 'datfix' made the change 'Set MJD-OBS to 57671.204537 from DATE-OBS'.\n"
     ]
    }
   ],
   "source": [
    "do_phot(data_dir, filters, apertures) "
   ]
  },
  {
   "cell_type": "code",
   "execution_count": null,
   "metadata": {},
   "outputs": [],
   "source": []
  }
 ],
 "metadata": {
  "kernelspec": {
   "display_name": "Python 3",
   "language": "python",
   "name": "python3"
  },
  "language_info": {
   "codemirror_mode": {
    "name": "ipython",
    "version": 3
   },
   "file_extension": ".py",
   "mimetype": "text/x-python",
   "name": "python",
   "nbconvert_exporter": "python",
   "pygments_lexer": "ipython3",
   "version": "3.7.6"
  }
 },
 "nbformat": 4,
 "nbformat_minor": 4
}
