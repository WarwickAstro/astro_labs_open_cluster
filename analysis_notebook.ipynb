{
 "cells": [
  {
   "cell_type": "markdown",
   "metadata": {},
   "source": [
    "# Open Clusters Analysis Notebook\n",
    "\n",
    "Import the pipeline modules"
   ]
  },
  {
   "cell_type": "code",
   "execution_count": null,
   "metadata": {},
   "outputs": [],
   "source": [
    "from openclusters.reduce import reduce                                                      \n",
    "from openclusters.mkregions import mkregions                                                \n",
    "from openclusters.photometry import photometry                                                   "
   ]
  },
  {
   "cell_type": "markdown",
   "metadata": {},
   "source": [
    "### Set up the pipeline"
   ]
  },
  {
   "cell_type": "code",
   "execution_count": null,
   "metadata": {},
   "outputs": [],
   "source": [
    "# data directory\n",
    "data_dir = \"/Users/jmcc/Dropbox/data/nites/student_oc_archive/test/NGC2099\"\n",
    "# reference image name, used for making regions\n",
    "reference_image = \"NGC2099-S001-R001-C001_dupe-11.fts\"\n",
    "# reference filter name, used for making regions\n",
    "reference_filter = \"R\"\n",
    "# path to open cluster catalog file\n",
    "catalog_path = \"/Users/jmcc/Dropbox/PythonScripts/open_clusters/open_cluster_membership_apjac1d51t2_mrt.csv\"\n",
    "# name of cluster being analysed\n",
    "cluster_name = \"NGC2099\"\n",
    "# colour of regions in ds9\n",
    "region_colour = \"green\"\n",
    "# list of filters to analyse\n",
    "filters = [\"B\", \"V\", \"R\", \"I\"]\n",
    "# list of photometry aperture radii, one per filter\n",
    "apertures = [4, 4, 4, 4]\n",
    "# cluster membership probability lower limit\n",
    "pl = 0.5\n",
    "# cluster membership probability upper limit\n",
    "pu = 1.0\n",
    "# cluster members faint magnitude limit\n",
    "mf = 15.0\n",
    "# cluster members bright magnitude limit\n",
    "mb = 10.0                                                                                                                                         "
   ]
  },
  {
   "cell_type": "markdown",
   "metadata": {},
   "source": [
    "### Sanity check the inputs"
   ]
  },
  {
   "cell_type": "code",
   "execution_count": null,
   "metadata": {},
   "outputs": [],
   "source": [
    "# check there is an aperture for each filter\n",
    "assert len(filters) == len(apertures), \"Uneven number of filters and apertures!\"        \n",
    "# check the probability limits make sense\n",
    "assert pl < pu, \"cluster membership probability lower limit must be less than upper limit!\" \n",
    "# check the magnitude limits make sense\n",
    "assert mb < mf, \"cluster magnitude bright limit must be less than the faint limit!\"         "
   ]
  },
  {
   "cell_type": "markdown",
   "metadata": {},
   "source": [
    "### Reduce the data"
   ]
  },
  {
   "cell_type": "code",
   "execution_count": null,
   "metadata": {},
   "outputs": [],
   "source": [
    "reduce(data_dir, filters)                                                                   "
   ]
  },
  {
   "cell_type": "markdown",
   "metadata": {},
   "source": [
    "### Make the region file for the reference image/filter"
   ]
  },
  {
   "cell_type": "code",
   "execution_count": null,
   "metadata": {},
   "outputs": [],
   "source": [
    "mkregions(data_dir, reference_image, reference_filter,                                      \n",
    "          catalog_path, cluster_name, pl, pu, mf, mb,                                       \n",
    "          region_colour)                                                                    "
   ]
  },
  {
   "cell_type": "markdown",
   "metadata": {},
   "source": [
    "### Stop and manually align/duplicate the reference region file for the other filters\n",
    "\n",
    "### Do the photometry"
   ]
  },
  {
   "cell_type": "code",
   "execution_count": null,
   "metadata": {},
   "outputs": [],
   "source": [
    "photometry(data_dir, filters, apertures) "
   ]
  }
 ],
 "metadata": {
  "kernelspec": {
   "display_name": "Python 3",
   "language": "python",
   "name": "python3"
  },
  "language_info": {
   "codemirror_mode": {
    "name": "ipython",
    "version": 3
   },
   "file_extension": ".py",
   "mimetype": "text/x-python",
   "name": "python",
   "nbconvert_exporter": "python",
   "pygments_lexer": "ipython3",
   "version": "3.7.6"
  }
 },
 "nbformat": 4,
 "nbformat_minor": 4
}
